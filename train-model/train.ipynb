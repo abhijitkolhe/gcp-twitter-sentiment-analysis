{
 "cells": [
  {
   "cell_type": "code",
   "execution_count": 1,
   "metadata": {
    "scrolled": true
   },
   "outputs": [
    {
     "name": "stdout",
     "output_type": "stream",
     "text": [
      "Requirement already satisfied: tweet-preprocessor==0.6.0 in /home/josh9191/anaconda3/lib/python3.8/site-packages (0.6.0)\n",
      "Requirement already satisfied: tensorflow==2.3.1 in /home/josh9191/anaconda3/lib/python3.8/site-packages (2.3.1)\n",
      "Requirement already satisfied: termcolor>=1.1.0 in /home/josh9191/anaconda3/lib/python3.8/site-packages (from tensorflow==2.3.1) (1.1.0)\n",
      "Requirement already satisfied: numpy<1.19.0,>=1.16.0 in /home/josh9191/anaconda3/lib/python3.8/site-packages (from tensorflow==2.3.1) (1.18.5)\n",
      "Requirement already satisfied: protobuf>=3.9.2 in /home/josh9191/anaconda3/lib/python3.8/site-packages (from tensorflow==2.3.1) (3.14.0)\n",
      "Requirement already satisfied: opt-einsum>=2.3.2 in /home/josh9191/anaconda3/lib/python3.8/site-packages (from tensorflow==2.3.1) (3.3.0)\n",
      "Requirement already satisfied: wheel>=0.26 in /home/josh9191/anaconda3/lib/python3.8/site-packages (from tensorflow==2.3.1) (0.34.2)\n",
      "Requirement already satisfied: six>=1.12.0 in /home/josh9191/anaconda3/lib/python3.8/site-packages (from tensorflow==2.3.1) (1.15.0)\n",
      "Requirement already satisfied: absl-py>=0.7.0 in /home/josh9191/anaconda3/lib/python3.8/site-packages (from tensorflow==2.3.1) (0.11.0)\n",
      "Requirement already satisfied: gast==0.3.3 in /home/josh9191/anaconda3/lib/python3.8/site-packages (from tensorflow==2.3.1) (0.3.3)\n",
      "Requirement already satisfied: astunparse==1.6.3 in /home/josh9191/anaconda3/lib/python3.8/site-packages (from tensorflow==2.3.1) (1.6.3)\n",
      "Requirement already satisfied: google-pasta>=0.1.8 in /home/josh9191/anaconda3/lib/python3.8/site-packages (from tensorflow==2.3.1) (0.2.0)\n",
      "Requirement already satisfied: tensorflow-estimator<2.4.0,>=2.3.0 in /home/josh9191/anaconda3/lib/python3.8/site-packages (from tensorflow==2.3.1) (2.3.0)\n",
      "Requirement already satisfied: keras-preprocessing<1.2,>=1.1.1 in /home/josh9191/anaconda3/lib/python3.8/site-packages (from tensorflow==2.3.1) (1.1.2)\n",
      "Requirement already satisfied: grpcio>=1.8.6 in /home/josh9191/anaconda3/lib/python3.8/site-packages (from tensorflow==2.3.1) (1.33.2)\n",
      "Requirement already satisfied: wrapt>=1.11.1 in /home/josh9191/anaconda3/lib/python3.8/site-packages (from tensorflow==2.3.1) (1.11.2)\n",
      "Requirement already satisfied: h5py<2.11.0,>=2.10.0 in /home/josh9191/anaconda3/lib/python3.8/site-packages (from tensorflow==2.3.1) (2.10.0)\n",
      "Requirement already satisfied: tensorboard<3,>=2.3.0 in /home/josh9191/anaconda3/lib/python3.8/site-packages (from tensorflow==2.3.1) (2.4.0)\n",
      "Requirement already satisfied: werkzeug>=0.11.15 in /home/josh9191/anaconda3/lib/python3.8/site-packages (from tensorboard<3,>=2.3.0->tensorflow==2.3.1) (1.0.1)\n",
      "Requirement already satisfied: google-auth-oauthlib<0.5,>=0.4.1 in /home/josh9191/anaconda3/lib/python3.8/site-packages (from tensorboard<3,>=2.3.0->tensorflow==2.3.1) (0.4.2)\n",
      "Requirement already satisfied: tensorboard-plugin-wit>=1.6.0 in /home/josh9191/anaconda3/lib/python3.8/site-packages (from tensorboard<3,>=2.3.0->tensorflow==2.3.1) (1.7.0)\n",
      "Requirement already satisfied: requests<3,>=2.21.0 in /home/josh9191/anaconda3/lib/python3.8/site-packages (from tensorboard<3,>=2.3.0->tensorflow==2.3.1) (2.25.0)\n",
      "Requirement already satisfied: setuptools>=41.0.0 in /home/josh9191/anaconda3/lib/python3.8/site-packages (from tensorboard<3,>=2.3.0->tensorflow==2.3.1) (49.2.0.post20200714)\n",
      "Requirement already satisfied: google-auth<2,>=1.6.3 in /home/josh9191/anaconda3/lib/python3.8/site-packages (from tensorboard<3,>=2.3.0->tensorflow==2.3.1) (1.23.0)\n",
      "Requirement already satisfied: markdown>=2.6.8 in /home/josh9191/anaconda3/lib/python3.8/site-packages (from tensorboard<3,>=2.3.0->tensorflow==2.3.1) (3.3.3)\n",
      "Requirement already satisfied: requests-oauthlib>=0.7.0 in /home/josh9191/anaconda3/lib/python3.8/site-packages (from google-auth-oauthlib<0.5,>=0.4.1->tensorboard<3,>=2.3.0->tensorflow==2.3.1) (1.3.0)\n",
      "Requirement already satisfied: chardet<4,>=3.0.2 in /home/josh9191/anaconda3/lib/python3.8/site-packages (from requests<3,>=2.21.0->tensorboard<3,>=2.3.0->tensorflow==2.3.1) (3.0.4)\n",
      "Requirement already satisfied: certifi>=2017.4.17 in /home/josh9191/anaconda3/lib/python3.8/site-packages (from requests<3,>=2.21.0->tensorboard<3,>=2.3.0->tensorflow==2.3.1) (2020.6.20)\n",
      "Requirement already satisfied: idna<3,>=2.5 in /home/josh9191/anaconda3/lib/python3.8/site-packages (from requests<3,>=2.21.0->tensorboard<3,>=2.3.0->tensorflow==2.3.1) (2.10)\n",
      "Requirement already satisfied: urllib3<1.27,>=1.21.1 in /home/josh9191/anaconda3/lib/python3.8/site-packages (from requests<3,>=2.21.0->tensorboard<3,>=2.3.0->tensorflow==2.3.1) (1.25.9)\n",
      "Requirement already satisfied: pyasn1-modules>=0.2.1 in /home/josh9191/anaconda3/lib/python3.8/site-packages (from google-auth<2,>=1.6.3->tensorboard<3,>=2.3.0->tensorflow==2.3.1) (0.2.8)\n",
      "Requirement already satisfied: cachetools<5.0,>=2.0.0 in /home/josh9191/anaconda3/lib/python3.8/site-packages (from google-auth<2,>=1.6.3->tensorboard<3,>=2.3.0->tensorflow==2.3.1) (4.1.1)\n",
      "Requirement already satisfied: rsa<5,>=3.1.4; python_version >= \"3.5\" in /home/josh9191/anaconda3/lib/python3.8/site-packages (from google-auth<2,>=1.6.3->tensorboard<3,>=2.3.0->tensorflow==2.3.1) (4.6)\n",
      "Requirement already satisfied: oauthlib>=3.0.0 in /home/josh9191/anaconda3/lib/python3.8/site-packages (from requests-oauthlib>=0.7.0->google-auth-oauthlib<0.5,>=0.4.1->tensorboard<3,>=2.3.0->tensorflow==2.3.1) (3.1.0)\n",
      "Requirement already satisfied: pyasn1<0.5.0,>=0.4.6 in /home/josh9191/anaconda3/lib/python3.8/site-packages (from pyasn1-modules>=0.2.1->google-auth<2,>=1.6.3->tensorboard<3,>=2.3.0->tensorflow==2.3.1) (0.4.8)\n",
      "Requirement already satisfied: requests==2.25.0 in /home/josh9191/anaconda3/lib/python3.8/site-packages (2.25.0)\n",
      "Requirement already satisfied: certifi>=2017.4.17 in /home/josh9191/anaconda3/lib/python3.8/site-packages (from requests==2.25.0) (2020.6.20)\n",
      "Requirement already satisfied: chardet<4,>=3.0.2 in /home/josh9191/anaconda3/lib/python3.8/site-packages (from requests==2.25.0) (3.0.4)\n",
      "Requirement already satisfied: urllib3<1.27,>=1.21.1 in /home/josh9191/anaconda3/lib/python3.8/site-packages (from requests==2.25.0) (1.25.9)\n",
      "Requirement already satisfied: idna<3,>=2.5 in /home/josh9191/anaconda3/lib/python3.8/site-packages (from requests==2.25.0) (2.10)\n",
      "Requirement already satisfied: pandas==1.1.4 in /home/josh9191/anaconda3/lib/python3.8/site-packages (1.1.4)\n",
      "Requirement already satisfied: numpy>=1.15.4 in /home/josh9191/anaconda3/lib/python3.8/site-packages (from pandas==1.1.4) (1.18.5)\n",
      "Requirement already satisfied: python-dateutil>=2.7.3 in /home/josh9191/anaconda3/lib/python3.8/site-packages (from pandas==1.1.4) (2.8.1)\n",
      "Requirement already satisfied: pytz>=2017.2 in /home/josh9191/anaconda3/lib/python3.8/site-packages (from pandas==1.1.4) (2020.1)\n",
      "Requirement already satisfied: six>=1.5 in /home/josh9191/anaconda3/lib/python3.8/site-packages (from python-dateutil>=2.7.3->pandas==1.1.4) (1.15.0)\n",
      "Requirement already satisfied: tweet-preprocessor==0.6.0 in /home/josh9191/anaconda3/lib/python3.8/site-packages (0.6.0)\n",
      "Requirement already satisfied: tqdm==4.52.0 in /home/josh9191/anaconda3/lib/python3.8/site-packages (4.52.0)\n"
     ]
    }
   ],
   "source": [
    "# install dependencies\n",
    "!pip install tweet-preprocessor==0.6.0\n",
    "!pip install tensorflow==2.3.1\n",
    "!pip install requests==2.25.0\n",
    "# Tensorflow 2.3.1 requires numpy < 1.19.0\n",
    "# !pip install numpy==1.19.0\n",
    "!pip install pandas==1.1.4\n",
    "!pip install tweet-preprocessor==0.6.0\n",
    "!pip install tqdm==4.52.0"
   ]
  },
  {
   "cell_type": "code",
   "execution_count": 2,
   "metadata": {},
   "outputs": [],
   "source": [
    "# define required libraries\n",
    "import io\n",
    "import os\n",
    "import zipfile\n",
    "\n",
    "import matplotlib.pyplot as plt\n",
    "import numpy as np\n",
    "import pandas as pd\n",
    "import preprocessor as p\n",
    "import requests\n",
    "import tensorflow as tf\n",
    "from tqdm import tqdm"
   ]
  },
  {
   "cell_type": "code",
   "execution_count": 3,
   "metadata": {},
   "outputs": [],
   "source": [
    "# prepare dataset\n",
    "DATA_SET_URL = 'http://cs.stanford.edu/people/alecmgo/trainingandtestdata.zip'\n",
    "# extract zip file to data directory (generated if not exists)\n",
    "DEST_DIR = './data'\n",
    "\n",
    "r = requests.get(DATA_SET_URL, stream=True)\n",
    "with zipfile.ZipFile(io.BytesIO(r.content)) as zf:\n",
    "    zf.extractall(DEST_DIR)\n",
    "\n",
    "train_data_file_path = os.path.join(DEST_DIR, 'training.1600000.processed.noemoticon.csv')\n",
    "\n",
    "assert(os.path.exists(train_data_file_path))"
   ]
  },
  {
   "cell_type": "code",
   "execution_count": 4,
   "metadata": {
    "scrolled": true
   },
   "outputs": [
    {
     "data": {
      "text/html": [
       "<div>\n",
       "<style scoped>\n",
       "    .dataframe tbody tr th:only-of-type {\n",
       "        vertical-align: middle;\n",
       "    }\n",
       "\n",
       "    .dataframe tbody tr th {\n",
       "        vertical-align: top;\n",
       "    }\n",
       "\n",
       "    .dataframe thead th {\n",
       "        text-align: right;\n",
       "    }\n",
       "</style>\n",
       "<table border=\"1\" class=\"dataframe\">\n",
       "  <thead>\n",
       "    <tr style=\"text-align: right;\">\n",
       "      <th></th>\n",
       "      <th>tweet</th>\n",
       "      <th>polarity</th>\n",
       "    </tr>\n",
       "  </thead>\n",
       "  <tbody>\n",
       "    <tr>\n",
       "      <th>0</th>\n",
       "      <td>@switchfoot http://twitpic.com/2y1zl - Awww, t...</td>\n",
       "      <td>0</td>\n",
       "    </tr>\n",
       "    <tr>\n",
       "      <th>1</th>\n",
       "      <td>is upset that he can't update his Facebook by ...</td>\n",
       "      <td>0</td>\n",
       "    </tr>\n",
       "    <tr>\n",
       "      <th>2</th>\n",
       "      <td>@Kenichan I dived many times for the ball. Man...</td>\n",
       "      <td>0</td>\n",
       "    </tr>\n",
       "    <tr>\n",
       "      <th>3</th>\n",
       "      <td>my whole body feels itchy and like its on fire</td>\n",
       "      <td>0</td>\n",
       "    </tr>\n",
       "    <tr>\n",
       "      <th>4</th>\n",
       "      <td>@nationwideclass no, it's not behaving at all....</td>\n",
       "      <td>0</td>\n",
       "    </tr>\n",
       "  </tbody>\n",
       "</table>\n",
       "</div>"
      ],
      "text/plain": [
       "                                               tweet  polarity\n",
       "0  @switchfoot http://twitpic.com/2y1zl - Awww, t...         0\n",
       "1  is upset that he can't update his Facebook by ...         0\n",
       "2  @Kenichan I dived many times for the ball. Man...         0\n",
       "3    my whole body feels itchy and like its on fire          0\n",
       "4  @nationwideclass no, it's not behaving at all....         0"
      ]
     },
     "execution_count": 4,
     "metadata": {},
     "output_type": "execute_result"
    }
   ],
   "source": [
    "# read data\n",
    "# note that we use polarity as label (0 = negative, 4 = positive)\n",
    "# use only tweet and polarity columns\n",
    "USED_COLS = ['tweet', 'polarity']\n",
    "df = pd.read_csv(train_data_file_path, encoding='ISO-8859-1', header=None)\n",
    "df.columns = ['polarity', 'tweet_id', 'date_of_tweet', 'query', 'user', 'tweet']\n",
    "df = df[USED_COLS]\n",
    "\n",
    "# relabel polarity from 4 to 1\n",
    "df.loc[df['polarity'] == 4, 'polarity'] = 1\n",
    "df.head()"
   ]
  },
  {
   "cell_type": "code",
   "execution_count": 5,
   "metadata": {},
   "outputs": [
    {
     "name": "stderr",
     "output_type": "stream",
     "text": [
      "/home/josh9191/anaconda3/lib/python3.8/site-packages/tqdm/std.py:703: FutureWarning: The Panel class is removed from pandas. Accessing it from the top-level namespace will also be removed in the next version\n",
      "  from pandas import Panel\n",
      "100%|██████████| 1600000/1600000 [01:35<00:00, 16700.73it/s]\n"
     ]
    },
    {
     "data": {
      "text/html": [
       "<div>\n",
       "<style scoped>\n",
       "    .dataframe tbody tr th:only-of-type {\n",
       "        vertical-align: middle;\n",
       "    }\n",
       "\n",
       "    .dataframe tbody tr th {\n",
       "        vertical-align: top;\n",
       "    }\n",
       "\n",
       "    .dataframe thead th {\n",
       "        text-align: right;\n",
       "    }\n",
       "</style>\n",
       "<table border=\"1\" class=\"dataframe\">\n",
       "  <thead>\n",
       "    <tr style=\"text-align: right;\">\n",
       "      <th></th>\n",
       "      <th>tweet</th>\n",
       "      <th>polarity</th>\n",
       "    </tr>\n",
       "  </thead>\n",
       "  <tbody>\n",
       "    <tr>\n",
       "      <th>0</th>\n",
       "      <td>- Awww, that's a bummer. You shoulda got David...</td>\n",
       "      <td>0</td>\n",
       "    </tr>\n",
       "    <tr>\n",
       "      <th>1</th>\n",
       "      <td>is upset that he can't update his Facebook by ...</td>\n",
       "      <td>0</td>\n",
       "    </tr>\n",
       "    <tr>\n",
       "      <th>2</th>\n",
       "      <td>I dived many times for the ball. Managed to sa...</td>\n",
       "      <td>0</td>\n",
       "    </tr>\n",
       "    <tr>\n",
       "      <th>3</th>\n",
       "      <td>my whole body feels itchy and like its on fire</td>\n",
       "      <td>0</td>\n",
       "    </tr>\n",
       "    <tr>\n",
       "      <th>4</th>\n",
       "      <td>no, it's not behaving at all. i'm mad. why am ...</td>\n",
       "      <td>0</td>\n",
       "    </tr>\n",
       "  </tbody>\n",
       "</table>\n",
       "</div>"
      ],
      "text/plain": [
       "                                               tweet  polarity\n",
       "0  - Awww, that's a bummer. You shoulda got David...         0\n",
       "1  is upset that he can't update his Facebook by ...         0\n",
       "2  I dived many times for the ball. Managed to sa...         0\n",
       "3     my whole body feels itchy and like its on fire         0\n",
       "4  no, it's not behaving at all. i'm mad. why am ...         0"
      ]
     },
     "execution_count": 5,
     "metadata": {},
     "output_type": "execute_result"
    }
   ],
   "source": [
    "# preprocess tweets\n",
    "# NOTE that p.clean should also be used in streaming pipeline\n",
    "def preprocess_tweet(row):\n",
    "    return p.clean(row)\n",
    "\n",
    "# show progress\n",
    "tqdm.pandas()\n",
    "df['tweet'] = df['tweet'].progress_apply(preprocess_tweet)\n",
    "df.head()"
   ]
  },
  {
   "cell_type": "code",
   "execution_count": 6,
   "metadata": {},
   "outputs": [
    {
     "name": "stdout",
     "output_type": "stream",
     "text": [
      "960000 320000 320000\n"
     ]
    }
   ],
   "source": [
    "# train - val - test dataset split\n",
    "# the code below shuffles dataframe and split dataset (6:2:2)\n",
    "train_df, val_df, test_df = np.split(df.sample(frac=1), [int(.6*len(df)), int(.8*len(df))])\n",
    "print(len(train_df), len(val_df), len(test_df))"
   ]
  },
  {
   "cell_type": "code",
   "execution_count": 7,
   "metadata": {},
   "outputs": [
    {
     "name": "stdout",
     "output_type": "stream",
     "text": [
      "[First 20 vocabularies]\n"
     ]
    },
    {
     "data": {
      "text/plain": [
       "array(['', '[UNK]', 'i', 'to', 'the', 'a', 'my', 'and', 'you', 'is', 'it',\n",
       "       'for', 'in', 'of', 'im', 'on', 'me', 'so', 'have', 'that'],\n",
       "      dtype='<U13')"
      ]
     },
     "execution_count": 7,
     "metadata": {},
     "output_type": "execute_result"
    }
   ],
   "source": [
    "# we use RNN to train data\n",
    "# create vocabulary and encode data\n",
    "VOCAB_SIZE=1000\n",
    "encoder = tf.keras.layers.experimental.preprocessing.TextVectorization(max_tokens=VOCAB_SIZE)\n",
    "encoder.adapt(train_df['tweet'].values)\n",
    "\n",
    "vocab = np.array(encoder.get_vocabulary())\n",
    "print(\"[First 20 vocabularies]\")\n",
    "vocab[:20]"
   ]
  },
  {
   "cell_type": "code",
   "execution_count": 8,
   "metadata": {},
   "outputs": [],
   "source": [
    "# define sentiment analysis model\n",
    "# TextVectorization -> Embedding -> Bidrectional -> Dense\n",
    "model = tf.keras.Sequential([\n",
    "    encoder,\n",
    "    tf.keras.layers.Embedding(\n",
    "        input_dim=len(encoder.get_vocabulary()),\n",
    "        output_dim=64,\n",
    "        mask_zero=True),\n",
    "    tf.keras.layers.Bidirectional(tf.keras.layers.LSTM(128)),\n",
    "    tf.keras.layers.Dense(64, activation='relu'),\n",
    "    tf.keras.layers.Dense(32, activation='relu'),\n",
    "    tf.keras.layers.Dense(1, activation='sigmoid')\n",
    "])\n",
    "\n",
    "model.compile(loss=tf.keras.losses.BinaryCrossentropy(from_logits=True),\n",
    "              optimizer=tf.keras.optimizers.Adam(5e-3),\n",
    "              metrics=['accuracy'])"
   ]
  },
  {
   "cell_type": "code",
   "execution_count": 9,
   "metadata": {},
   "outputs": [
    {
     "name": "stdout",
     "output_type": "stream",
     "text": [
      "Epoch 1/30\n",
      "3750/3750 [==============================] - 354s 94ms/step - loss: 0.6206 - accuracy: 0.7305 - val_loss: 0.6139 - val_accuracy: 0.7642\n",
      "Epoch 2/30\n",
      "3750/3750 [==============================] - 356s 95ms/step - loss: 0.6086 - accuracy: 0.7585 - val_loss: 0.6113 - val_accuracy: 0.7723\n",
      "Epoch 3/30\n",
      "3750/3750 [==============================] - 355s 95ms/step - loss: 0.6057 - accuracy: 0.7661 - val_loss: 0.6079 - val_accuracy: 0.7634\n",
      "Epoch 4/30\n",
      "3750/3750 [==============================] - 347s 93ms/step - loss: 0.6039 - accuracy: 0.7698 - val_loss: 0.6078 - val_accuracy: 0.7682\n",
      "Epoch 5/30\n",
      "3750/3750 [==============================] - 348s 93ms/step - loss: 0.6031 - accuracy: 0.7729 - val_loss: 0.6078 - val_accuracy: 0.7716\n",
      "Epoch 6/30\n",
      "3750/3750 [==============================] - 350s 93ms/step - loss: 0.6021 - accuracy: 0.7752 - val_loss: 0.6064 - val_accuracy: 0.7715\n",
      "Epoch 7/30\n",
      "3750/3750 [==============================] - 368s 98ms/step - loss: 0.6017 - accuracy: 0.7757 - val_loss: 0.6054 - val_accuracy: 0.7763\n",
      "Epoch 8/30\n",
      "3750/3750 [==============================] - 363s 97ms/step - loss: 0.6019 - accuracy: 0.7744 - val_loss: 0.6062 - val_accuracy: 0.7689\n",
      "Epoch 9/30\n",
      "3750/3750 [==============================] - 358s 95ms/step - loss: 0.6015 - accuracy: 0.7766 - val_loss: 0.6068 - val_accuracy: 0.7810\n",
      "Epoch 10/30\n",
      "3750/3750 [==============================] - 382s 102ms/step - loss: 0.6014 - accuracy: 0.7781 - val_loss: 0.6052 - val_accuracy: 0.7745\n",
      "Epoch 11/30\n",
      "3750/3750 [==============================] - 359s 96ms/step - loss: 0.6010 - accuracy: 0.7773 - val_loss: 0.6055 - val_accuracy: 0.7779\n",
      "Epoch 12/30\n",
      "3750/3750 [==============================] - 364s 97ms/step - loss: 0.6011 - accuracy: 0.7773 - val_loss: 0.6064 - val_accuracy: 0.7693\n",
      "Epoch 13/30\n",
      "3750/3750 [==============================] - 365s 97ms/step - loss: 0.6014 - accuracy: 0.7769 - val_loss: 0.6045 - val_accuracy: 0.7727\n",
      "Epoch 14/30\n",
      "3750/3750 [==============================] - 369s 98ms/step - loss: 0.6016 - accuracy: 0.7751 - val_loss: 0.6073 - val_accuracy: 0.7676\n",
      "Epoch 15/30\n",
      "3750/3750 [==============================] - 365s 97ms/step - loss: 0.6017 - accuracy: 0.7760 - val_loss: 0.6054 - val_accuracy: 0.7678\n",
      "Epoch 16/30\n",
      "3750/3750 [==============================] - 368s 98ms/step - loss: 0.6018 - accuracy: 0.7748 - val_loss: 0.6074 - val_accuracy: 0.7734\n"
     ]
    }
   ],
   "source": [
    "# fit model\n",
    "# enable early stopping\n",
    "early_stopping_callback = tf.keras.callbacks.EarlyStopping(monitor='val_loss', patience=3)\n",
    "\n",
    "history = model.fit(x=train_df['tweet'].values, y=train_df['polarity'].values,\n",
    "                    batch_size=256, epochs=30,\n",
    "                    callbacks=early_stopping_callback,\n",
    "                    validation_data=(val_df['tweet'].values, val_df['polarity'].values),\n",
    "                    validation_steps=30)"
   ]
  },
  {
   "cell_type": "code",
   "execution_count": 10,
   "metadata": {},
   "outputs": [
    {
     "name": "stdout",
     "output_type": "stream",
     "text": [
      "10000/10000 [==============================] - 105s 11ms/step - loss: 0.6041 - accuracy: 0.7736\n",
      "Test Loss: 0.604108989238739 / Test Accuracy: 0.7735968828201294\n"
     ]
    }
   ],
   "source": [
    "test_loss, test_acc = model.evaluate(x=test_df['tweet'].values, y=test_df['polarity'].values)\n",
    "print(f'Test Loss: {test_loss} / Test Accuracy: {test_acc}')"
   ]
  },
  {
   "cell_type": "code",
   "execution_count": 11,
   "metadata": {},
   "outputs": [
    {
     "data": {
      "text/plain": [
       "(0.0, 0.6216015219688416)"
      ]
     },
     "execution_count": 11,
     "metadata": {},
     "output_type": "execute_result"
    },
    {
     "data": {
      "image/png": "[encoded data removed]",
      "text/plain": [
       "<Figure size 1152x576 with 2 Axes>"
      ]
     },
     "metadata": {
      "needs_background": "light"
     },
     "output_type": "display_data"
    }
   ],
   "source": [
    "def plot_graphs(history, metric):\n",
    "    plt.plot(history.history[metric])\n",
    "    plt.plot(history.history['val_' + metric], '')\n",
    "    plt.xlabel(\"Epochs\")\n",
    "    plt.ylabel(metric)\n",
    "    plt.legend([metric, 'val_' + metric])\n",
    "\n",
    "plt.figure(figsize=(16, 8))\n",
    "plt.subplot(1, 2, 1)\n",
    "plot_graphs(history, 'accuracy')\n",
    "plt.ylim(None, 1)\n",
    "plt.subplot(1, 2, 2)\n",
    "plot_graphs(history, 'loss')\n",
    "plt.ylim(0, None)"
   ]
  },
  {
   "cell_type": "code",
   "execution_count": 12,
   "metadata": {},
   "outputs": [
    {
     "name": "stdout",
     "output_type": "stream",
     "text": [
      "WARNING:tensorflow:From /home/josh9191/anaconda3/lib/python3.8/site-packages/tensorflow/python/training/tracking/tracking.py:111: Model.state_updates (from tensorflow.python.keras.engine.training) is deprecated and will be removed in a future version.\n",
      "Instructions for updating:\n",
      "This property should not be used in TensorFlow 2.0, as updates are applied automatically.\n",
      "WARNING:tensorflow:From /home/josh9191/anaconda3/lib/python3.8/site-packages/tensorflow/python/training/tracking/tracking.py:111: Layer.updates (from tensorflow.python.keras.engine.base_layer) is deprecated and will be removed in a future version.\n",
      "Instructions for updating:\n",
      "This property should not be used in TensorFlow 2.0, as updates are applied automatically.\n",
      "INFO:tensorflow:Assets written to: ./model/assets\n"
     ]
    }
   ],
   "source": [
    "# save the model\n",
    "model.save('./model', save_format='tf')"
   ]
  },
  {
   "cell_type": "code",
   "execution_count": 13,
   "metadata": {},
   "outputs": [
    {
     "data": {
      "text/plain": [
       "array([[4.5368084e-01],\n",
       "       [9.9963892e-01],\n",
       "       [0.0000000e+00],\n",
       "       [1.0000000e+00],\n",
       "       [2.2855107e-34],\n",
       "       [0.0000000e+00],\n",
       "       [1.0000000e+00],\n",
       "       [4.2382574e-01],\n",
       "       [3.5636090e-32],\n",
       "       [1.0000000e+00],\n",
       "       [1.0000000e+00],\n",
       "       [4.0063497e-01],\n",
       "       [5.6756590e-38],\n",
       "       [0.0000000e+00],\n",
       "       [3.6816210e-21],\n",
       "       [0.0000000e+00],\n",
       "       [2.3867410e-14],\n",
       "       [1.0000000e+00],\n",
       "       [0.0000000e+00],\n",
       "       [1.0000000e+00]], dtype=float32)"
      ]
     },
     "execution_count": 13,
     "metadata": {},
     "output_type": "execute_result"
    }
   ],
   "source": [
    "model.predict(test_df['tweet'][:20].values)"
   ]
  },
  {
   "cell_type": "code",
   "execution_count": 14,
   "metadata": {},
   "outputs": [
    {
     "data": {
      "text/plain": [
       "array(['Erm, no but lease.. i have tomorrow though.. just to tie all the loose ends together! Then i shall be ready for Monday! xo',\n",
       "       \"is going to bed because he is not feeling well but is also thinking about auditions for 'So You Think You Can Dance '\",\n",
       "       'Omg i dnt want cleveland to win but aww i feel bad lebron. GO MAGIC!!!!!! -10',\n",
       "       'Hmm for some reason I am obnoxiously motivated &amp; happy for a Monday? I like it',\n",
       "       'All this talk about the iphone has me kind of jealous',\n",
       "       'lie in tomo do i need say anymore!',\n",
       "       \"Interview planned with referee Eric Braamhaar for Monday afternoon I'll start writing down some questions, does anyone else has some?\",\n",
       "       'ready to give up on twitter, never get responses',\n",
       "       \"it's not some people are just to uptight/conservative. happy /20. Whish I was blazing...\",\n",
       "       \"getting ready for Timmy's graduation party. Text the cell or stop on by.\",\n",
       "       'Up! and out. Cure for cube-itus? Looong lunch',\n",
       "       \"How've you been? idk if you saw the story or not but flying's just about over with for me\",\n",
       "       \"stalking fb photos of someone who just had a baby- this is so unreal to me- i'm soooo behind awsdlksdljasd\",\n",
       "       'trying to get this Twitter app going on my g1 its not working though help me',\n",
       "       \"hi! thx for the code for THE PATH but it didn't work error: removed / used up. How to proceed? Thanx in advance!\",\n",
       "       'sorry to hear that.',\n",
       "       \"I've been lazy all dern day.. about time i got my ass outta bed. trying to make songs ringers for my iphone. I'm confused!\",\n",
       "       \"is glad to see the Orlando Magic are playing well tonight... I don't care, but at least all my friends at church tomorrow will be happy.\",\n",
       "       \"she can't when it private. Tried that a long time ago\",\n",
       "       \"[stapler haiku] Whar a Night! Woo Hoo! Yeah! / A beautiful night to party! / Oops, I'm a stapler...\"],\n",
       "      dtype=object)"
      ]
     },
     "execution_count": 14,
     "metadata": {},
     "output_type": "execute_result"
    }
   ],
   "source": [
    "test_df['tweet'][:20].values"
   ]
  },
  {
   "cell_type": "code",
   "execution_count": null,
   "metadata": {},
   "outputs": [],
   "source": []
  }
 ],
 "metadata": {
  "kernelspec": {
   "display_name": "Python 3",
   "language": "python",
   "name": "python3"
  },
  "language_info": {
   "codemirror_mode": {
    "name": "ipython",
    "version": 3
   },
   "file_extension": ".py",
   "mimetype": "text/x-python",
   "name": "python",
   "nbconvert_exporter": "python",
   "pygments_lexer": "ipython3",
   "version": "3.8.3"
  }
 },
 "nbformat": 4,
 "nbformat_minor": 4
}
